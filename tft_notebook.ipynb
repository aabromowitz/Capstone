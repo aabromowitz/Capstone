{
 "cells": [
  {
   "cell_type": "code",
   "execution_count": 2,
   "metadata": {},
   "outputs": [
    {
     "name": "stderr",
     "output_type": "stream",
     "text": [
      "c:\\Users\\aabro\\OneDrive\\Desktop\\SMU Program\\Capstone\\Python\\.venv\\Lib\\site-packages\\tqdm\\auto.py:21: TqdmWarning: IProgress not found. Please update jupyter and ipywidgets. See https://ipywidgets.readthedocs.io/en/stable/user_install.html\n",
      "  from .autonotebook import tqdm as notebook_tqdm\n"
     ]
    }
   ],
   "source": [
    "# Imports\n",
    "import pandas as pd\n",
    "import darts\n",
    "from darts import TimeSeries\n",
    "from darts.models import TFTModel\n",
    "from sklearn.preprocessing import MinMaxScaler\n",
    "from train_tft import train_tft  # Import from the script"
   ]
  },
  {
   "cell_type": "code",
   "execution_count": null,
   "metadata": {},
   "outputs": [],
   "source": [
    "# Load data\n",
    "df = pd.read_csv(\"your_dataset.csv\", parse_dates=[\"date_column\"])\n",
    "df.set_index(\"date_column\", inplace=True)"
   ]
  },
  {
   "cell_type": "code",
   "execution_count": null,
   "metadata": {},
   "outputs": [],
   "source": [
    "# Define dependent variable and exogenous variables\n",
    "target_col = \"your_target_variable\"\n",
    "exog_cols = [\"exog_var1\", \"exog_var2\", \"exog_var3\"]"
   ]
  },
  {
   "cell_type": "code",
   "execution_count": null,
   "metadata": {},
   "outputs": [],
   "source": [
    "# Normalize data\n",
    "scaler = MinMaxScaler()\n",
    "df[exog_cols + [target_col]] = scaler.fit_transform(df[exog_cols + [target_col]])"
   ]
  },
  {
   "cell_type": "code",
   "execution_count": null,
   "metadata": {},
   "outputs": [],
   "source": [
    "# Convert to Darts TimeSeries\n",
    "series = TimeSeries.from_dataframe(df, value_cols=target_col)\n",
    "exog_series = TimeSeries.from_dataframe(df, value_cols=exog_cols) "
   ]
  },
  {
   "cell_type": "code",
   "execution_count": null,
   "metadata": {},
   "outputs": [],
   "source": [
    "# Split into train/validation/test\n",
    "train, val, test = series.split_after([0.6, 0.8])\n",
    "exog_train, exog_val, exog_test = exog_series.split_after([0.6, 0.8])"
   ]
  },
  {
   "cell_type": "code",
   "execution_count": null,
   "metadata": {},
   "outputs": [],
   "source": [
    "# Train and evaluate model\n",
    "model, val_loss, test_loss, variable_importance = train_tft(train, val, test, exog_train, exog_val, exog_test)"
   ]
  },
  {
   "cell_type": "code",
   "execution_count": null,
   "metadata": {},
   "outputs": [],
   "source": [
    "# Display results\n",
    "print(f\"Validation Loss: {val_loss}\")\n",
    "print(f\"Test Loss: {test_loss}\")\n",
    "print(\"Variable Importance:\", variable_importance)"
   ]
  }
 ],
 "metadata": {
  "kernelspec": {
   "display_name": ".venv",
   "language": "python",
   "name": "python3"
  },
  "language_info": {
   "codemirror_mode": {
    "name": "ipython",
    "version": 3
   },
   "file_extension": ".py",
   "mimetype": "text/x-python",
   "name": "python",
   "nbconvert_exporter": "python",
   "pygments_lexer": "ipython3",
   "version": "3.12.5"
  }
 },
 "nbformat": 4,
 "nbformat_minor": 2
}
